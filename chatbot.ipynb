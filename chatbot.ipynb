{
  "cells": [
    {
      "cell_type": "markdown",
      "metadata": {
        "id": "view-in-github",
        "colab_type": "text"
      },
      "source": [
        "<a href=\"https://colab.research.google.com/github/Amna-ismail/Chatbot-Deep-Learning-/blob/main/chatbot.ipynb\" target=\"_parent\"><img src=\"https://colab.research.google.com/assets/colab-badge.svg\" alt=\"Open In Colab\"/></a>"
      ]
    },
    {
      "cell_type": "code",
      "execution_count": null,
      "metadata": {
        "colab": {
          "background_save": true
        },
        "id": "02YKmMpfvgC5"
      },
      "outputs": [],
      "source": [
        "import numpy as np\n",
        "import tensorflow as tf\n",
        "from tensorflow.keras.preprocessing.text import Tokenizer\n",
        "from tensorflow.keras.preprocessing.sequence import pad_sequences\n",
        "from tensorflow.keras.models import Sequential\n",
        "from tensorflow.keras.layers import Embedding, LSTM, Dense, Dropout\n",
        "import json\n",
        "import random\n"
      ]
    },
    {
      "cell_type": "code",
      "execution_count": null,
      "metadata": {
        "id": "YEXqMZXkwBB5"
      },
      "outputs": [],
      "source": [
        "data = {\n",
        "    \"intents\": [\n",
        "        {\"tag\": \"greeting\", \"patterns\": [\"Hi\", \"Hello\", \"How are you\", \"Is anyone there?\", \"Good day\"], \"responses\": [\"Hello!\", \"Hi there!\", \"Greetings!\", \"How can I help you?\"]},\n",
        "        {\"tag\": \"goodbye\", \"patterns\": [\"Bye\", \"See you later\", \"Goodbye\"], \"responses\": [\"Goodbye!\", \"See you later!\", \"Have a great day!\"]},\n",
        "        {\"tag\": \"thanks\", \"patterns\": [\"Thanks\", \"Thank you\", \"That's helpful\"], \"responses\": [\"You're welcome!\", \"Happy to help!\", \"Anytime!\"]},\n",
        "        {\"tag\": \"noanswer\", \"patterns\": [], \"responses\": [\"Sorry, I don't understand.\"]},\n",
        "    ]\n",
        "}\n",
        "\n",
        "# Save data to a JSON file for easy loading\n",
        "with open('chatbot_data.json', 'w') as outfile:\n",
        "    json.dump(data, outfile)\n"
      ]
    },
    {
      "cell_type": "code",
      "execution_count": null,
      "metadata": {
        "colab": {
          "background_save": true
        },
        "id": "lAzXbwaUwG_b"
      },
      "outputs": [],
      "source": [
        "# Load the JSON file\n",
        "with open('chatbot_data.json') as file:\n",
        "    data = json.load(file)\n",
        "\n",
        "# Initialize lists for patterns and responses\n",
        "patterns = []\n",
        "responses = []\n",
        "classes = []\n",
        "documents = []\n",
        "\n",
        "# Extract data\n",
        "for intent in data['intents']:\n",
        "    for pattern in intent['patterns']:\n",
        "        patterns.append(pattern)\n",
        "        responses.append(intent['responses'])\n",
        "        documents.append((pattern, intent['tag']))\n",
        "\n",
        "    if intent['tag'] not in classes:\n",
        "        classes.append(intent['tag'])\n",
        "\n",
        "# Tokenize the patterns\n",
        "tokenizer = Tokenizer(num_words=2000)\n",
        "tokenizer.fit_on_texts(patterns)\n",
        "word_index = tokenizer.word_index\n",
        "\n",
        "# Convert patterns to sequences\n",
        "sequences = tokenizer.texts_to_sequences(patterns)\n",
        "max_length = max(len(x) for x in sequences)\n",
        "padded_sequences = pad_sequences(sequences, maxlen=max_length, padding='post')\n",
        "\n",
        "# Create target variables\n",
        "labels = [classes.index(doc[1]) for doc in documents]\n",
        "labels = np.array(labels)\n",
        "\n",
        "# One-hot encode labels\n",
        "labels = tf.keras.utils.to_categorical(labels, num_classes=len(classes))\n"
      ]
    },
    {
      "cell_type": "code",
      "execution_count": null,
      "metadata": {
        "colab": {
          "base_uri": "https://localhost:8080/"
        },
        "id": "hoN-6KuaweKm",
        "outputId": "7eb14718-92ce-405d-9dee-c034b3389143"
      },
      "outputs": [
        {
          "name": "stdout",
          "output_type": "stream",
          "text": [
            "Model: \"sequential\"\n",
            "_________________________________________________________________\n",
            " Layer (type)                Output Shape              Param #   \n",
            "=================================================================\n",
            " embedding (Embedding)       (None, 3, 128)            256000    \n",
            "                                                                 \n",
            " lstm (LSTM)                 (None, 3, 128)            131584    \n",
            "                                                                 \n",
            " dropout (Dropout)           (None, 3, 128)            0         \n",
            "                                                                 \n",
            " lstm_1 (LSTM)               (None, 128)               131584    \n",
            "                                                                 \n",
            " dropout_1 (Dropout)         (None, 128)               0         \n",
            "                                                                 \n",
            " dense (Dense)               (None, 128)               16512     \n",
            "                                                                 \n",
            " dense_1 (Dense)             (None, 4)                 516       \n",
            "                                                                 \n",
            "=================================================================\n",
            "Total params: 536196 (2.05 MB)\n",
            "Trainable params: 536196 (2.05 MB)\n",
            "Non-trainable params: 0 (0.00 Byte)\n",
            "_________________________________________________________________\n"
          ]
        }
      ],
      "source": [
        "model = Sequential()\n",
        "model.add(Embedding(input_dim=2000, output_dim=128, input_length=max_length))\n",
        "model.add(LSTM(128, return_sequences=True))\n",
        "model.add(Dropout(0.5))\n",
        "model.add(LSTM(128))\n",
        "model.add(Dropout(0.5))\n",
        "model.add(Dense(128, activation='relu'))\n",
        "model.add(Dense(len(classes), activation='softmax'))\n",
        "\n",
        "model.compile(loss='categorical_crossentropy', optimizer='adam', metrics=['accuracy'])\n",
        "\n",
        "model.summary()\n"
      ]
    },
    {
      "cell_type": "code",
      "execution_count": null,
      "metadata": {
        "colab": {
          "background_save": true,
          "base_uri": "https://localhost:8080/"
        },
        "id": "VdMjLg6iwhkQ",
        "outputId": "d9b6aa07-e54e-45ae-81af-5fd0d9671d72"
      },
      "outputs": [
        {
          "name": "stdout",
          "output_type": "stream",
          "text": [
            "Epoch 1/10\n",
            "3/3 [==============================] - 4s 20ms/step - loss: 1.3848 - accuracy: 0.4545\n",
            "Epoch 2/10\n",
            "3/3 [==============================] - 0s 15ms/step - loss: 1.3739 - accuracy: 0.4545\n",
            "Epoch 3/10\n",
            "3/3 [==============================] - 0s 15ms/step - loss: 1.3640 - accuracy: 0.5455\n",
            "Epoch 4/10\n",
            "3/3 [==============================] - 0s 15ms/step - loss: 1.3535 - accuracy: 0.4545\n",
            "Epoch 5/10\n",
            "3/3 [==============================] - 0s 16ms/step - loss: 1.3417 - accuracy: 0.4545\n",
            "Epoch 6/10\n",
            "3/3 [==============================] - 0s 16ms/step - loss: 1.3242 - accuracy: 0.4545\n",
            "Epoch 7/10\n",
            "3/3 [==============================] - 0s 15ms/step - loss: 1.2968 - accuracy: 0.4545\n",
            "Epoch 8/10\n",
            "3/3 [==============================] - 0s 14ms/step - loss: 1.2788 - accuracy: 0.4545\n",
            "Epoch 9/10\n",
            "3/3 [==============================] - 0s 14ms/step - loss: 1.2451 - accuracy: 0.4545\n",
            "Epoch 10/10\n",
            "3/3 [==============================] - 0s 14ms/step - loss: 1.2228 - accuracy: 0.4545\n"
          ]
        }
      ],
      "source": [
        "history = model.fit(padded_sequences, labels, epochs=10, batch_size=5, verbose=1)\n"
      ]
    },
    {
      "cell_type": "code",
      "execution_count": null,
      "metadata": {
        "colab": {
          "base_uri": "https://localhost:8080/"
        },
        "id": "hy_6Ao2Ows7o",
        "outputId": "07b394ea-e398-4375-ff4a-5af0579192d6"
      },
      "outputs": [
        {
          "name": "stderr",
          "output_type": "stream",
          "text": [
            "/usr/local/lib/python3.10/dist-packages/keras/src/engine/training.py:3103: UserWarning: You are saving your model as an HDF5 file via `model.save()`. This file format is considered legacy. We recommend using instead the native Keras format, e.g. `model.save('my_model.keras')`.\n",
            "  saving_api.save_model(\n"
          ]
        }
      ],
      "source": [
        "model.save('chatbot_model.h5')"
      ]
    },
    {
      "cell_type": "code",
      "execution_count": null,
      "metadata": {
        "colab": {
          "background_save": true
        },
        "id": "goS1fLkIwn9C"
      },
      "outputs": [],
      "source": [
        "# Load the model\n",
        "model = tf.keras.models.load_model('chatbot_model.h5')\n",
        "\n",
        "# Define a function to clean up user input\n",
        "def clean_up_sentence(sentence):\n",
        "    sentence_words = tokenizer.texts_to_sequences([sentence])\n",
        "    sentence_words = pad_sequences(sentence_words, maxlen=max_length, padding='post')\n",
        "    return sentence_words\n",
        "\n",
        "# Define a function to classify user input\n",
        "def classify(sentence):\n",
        "    sentence_words = clean_up_sentence(sentence)\n",
        "    prediction = model.predict(sentence_words)[0]\n",
        "    ERROR_THRESHOLD = 0.25\n",
        "    results = [[i, res] for i, res in enumerate(prediction) if res > ERROR_THRESHOLD]\n",
        "    results.sort(key=lambda x: x[1], reverse=True)\n",
        "    return_list = []\n",
        "    for r in results:\n",
        "        return_list.append({\"intent\": classes[r[0]], \"probability\": str(r[1])})\n",
        "    return return_list\n",
        "\n",
        "# Define a function to get a response\n",
        "def get_response(intents_list, intents_json):\n",
        "    tag = intents_list[0]['intent']\n",
        "    list_of_intents = intents_json['intents']\n",
        "    for i in list_of_intents:\n",
        "        if i['tag'] == tag:\n",
        "            result = random.choice(i['responses'])\n",
        "            break\n",
        "    return result\n",
        "\n",
        "# Define the chatbot response function\n",
        "def chatbot_response(text):\n",
        "    intents = classify(text)\n",
        "    response = get_response(intents, data)\n",
        "    return response\n"
      ]
    },
    {
      "cell_type": "code",
      "execution_count": null,
      "metadata": {
        "colab": {
          "background_save": true,
          "base_uri": "https://localhost:8080/"
        },
        "id": "IK1aT5qpww1y",
        "outputId": "1642666b-f9da-4dd4-f5b1-c3e54a70a5d6"
      },
      "outputs": [
        {
          "output_type": "stream",
          "name": "stdout",
          "text": [
            "Start talking with the bot (type 'quit' to stop)!\n"
          ]
        }
      ],
      "source": [
        "print(\"Start talking with the bot (type 'quit' to stop)!\")\n",
        "while True:\n",
        "    message = input(\"\")\n",
        "    if message.lower() == \"quit\":\n",
        "        break\n",
        "    response = chatbot_response(message)\n",
        "    print(message)\n",
        "    print(response)\n"
      ]
    }
  ],
  "metadata": {
    "colab": {
      "provenance": [],
      "include_colab_link": true
    },
    "kernelspec": {
      "display_name": "Python 3",
      "name": "python3"
    },
    "language_info": {
      "name": "python"
    }
  },
  "nbformat": 4,
  "nbformat_minor": 0
}